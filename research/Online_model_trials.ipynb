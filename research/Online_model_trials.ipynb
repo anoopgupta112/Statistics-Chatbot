{
 "cells": [
  {
   "cell_type": "code",
   "execution_count": 32,
   "metadata": {},
   "outputs": [],
   "source": [
    "import replicate\n",
    "# from dotenv import load_dotenv\n",
    "# import os\n",
    "# load_dotenv()\n",
    "# os.environ.get('REPLICATE_API_TOKEN')\n"
   ]
  },
  {
   "cell_type": "markdown",
   "metadata": {},
   "source": [
    "#### Replicate API checking for LLMA 2"
   ]
  },
  {
   "cell_type": "code",
   "execution_count": 33,
   "metadata": {},
   "outputs": [
    {
     "name": "stdout",
     "output_type": "stream",
     "text": [
      "<generator object Prediction.output_iterator at 0x000001F54BC93AC0>\n"
     ]
    }
   ],
   "source": [
    "# Online Model \n",
    "output = replicate.run(\n",
    "  \"meta/llama-2-7b:acdbe5a4987a29261ba7d7d4195ad4fa6b62ce27b034f989fcb9ab0421408a7c\",\n",
    "  input={\n",
    "    \"debug\": False,\n",
    "    \"top_k\": 250,\n",
    "    \"top_p\": 0.95,\n",
    "    \"prompt\": \"What is Java?\",\n",
    "    \"temperature\": 0.95,\n",
    "    \"max_new_tokens\": 500,\n",
    "    \"min_new_tokens\": -1,\n",
    "    \"repetition_penalty\": 1.15,\n",
    "    \"repetition_penalty_sustain\": 256,\n",
    "    \"token_repetition_penalty_decay\": 128\n",
    "  }\n",
    ")\n",
    "print(output)"
   ]
  },
  {
   "cell_type": "code",
   "execution_count": 34,
   "metadata": {},
   "outputs": [
    {
     "name": "stdout",
     "output_type": "stream",
     "text": [
      " Why did Java become so famous in the past few years, you know with a lot of companies taking and use it as their language for writing applications on the back end that you’re kind of making a comparison here between server side development. everyone is talking about, they’ve been using PHP or Ruby but now they want to do this thing called Java. So why would I want to learn this language? Well let me tell you actually that there are four reasons especially today really why you may wanna consider learning more about Java. And we already covered one of them which is job market opportunities right at any given time if you go around asking like oh hey I need somebody who understands Java on my team what happens when people aren’t going well I don’t mind hiring someone I just I don’t know that doesn’t sound familiar to what else might happen right that person said well hold on wait how am I gonna vouch or even promote your skills out there amongst others being a programmer these days when you can use HTML and CSS and something and put together on some JavaScript kinda stuff and all that other goodness like what sounds more foreign to yourself than a word in an entire programming language then saying, hey yeah I do 2 years experience in Java like whatever could you repeat that again please, sorry get over here sir she had no idea this was actually ever existed because nobody else does either number two there’s very high salaries often involved for those who know Java and this by far is usually not hard to prove if you say Hey I know this skill set like it’s important that they’re willing to pay almost as much in many cases as the industry average for our information technology employees that says a lot on the industry average for IT professionals then obviously you want your product avaliable so number three learning new languages will help improve learning the most basic concept of things known by C# which that comes up with how some principles are the same and in addition to having good structure if you look at structured programming design through all this first 14 courses you already take away certain design patterns but also I mean we will always have different perspectives of solutions such as trying to avoid repetition from the point of view of source coding I hope after all this I think we can eliminate some pitfalls like loops repeating in doing it 10 million times and avoid to make program longer still having a working solution there should\n"
     ]
    }
   ],
   "source": [
    "result = list(output)\n",
    "generated_text = \"\".join(result)\n",
    "\n",
    "print(generated_text)"
   ]
  },
  {
   "cell_type": "markdown",
   "metadata": {},
   "source": [
    "# Online model checking"
   ]
  },
  {
   "cell_type": "markdown",
   "metadata": {},
   "source": [
    "<!-- Online Model checking -->"
   ]
  },
  {
   "cell_type": "code",
   "execution_count": 11,
   "metadata": {},
   "outputs": [
    {
     "name": "stderr",
     "output_type": "stream",
     "text": [
      "c:\\Users\\anoop\\anaconda3\\envs\\mchatbot\\lib\\site-packages\\pinecone\\index.py:4: TqdmWarning: IProgress not found. Please update jupyter and ipywidgets. See https://ipywidgets.readthedocs.io/en/stable/user_install.html\n",
      "  from tqdm.autonotebook import tqdm\n"
     ]
    }
   ],
   "source": [
    "from langchain.text_splitter import RecursiveCharacterTextSplitter\n",
    "from langchain.prompts import PromptTemplate\n",
    "from langchain.llms import CTransformers\n",
    "from langchain.document_loaders import PyPDFLoader, DirectoryLoader\n",
    "from langchain import PromptTemplate\n",
    "from langchain.chains import RetrievalQA\n",
    "from langchain.embeddings import HuggingFaceEmbeddings\n",
    "from langchain.vectorstores import Pinecone\n",
    "import pinecone\n",
    "\n",
    "\n"
   ]
  },
  {
   "cell_type": "code",
   "execution_count": 4,
   "metadata": {},
   "outputs": [
    {
     "name": "stderr",
     "output_type": "stream",
     "text": [
      "streaming was transfered to model_kwargs.\n",
      "                    Please confirm that streaming is what you intended.\n"
     ]
    }
   ],
   "source": [
    "# This one is working fine \n",
    "\n",
    "\n",
    "from langchain.callbacks.streaming_stdout import StreamingStdOutCallbackHandler\n",
    "from langchain.llms import Replicate\n",
    "\n",
    "llm = Replicate(\n",
    "    streaming=True,\n",
    "    callbacks=[StreamingStdOutCallbackHandler()],\n",
    "    model=\"meta/llama-2-7b:acdbe5a4987a29261ba7d7d4195ad4fa6b62ce27b034f989fcb9ab0421408a7c\",\n",
    "    input={\"temperature\": 0.75, \"max_length\": 500, \"top_p\": 1}\n",
    ")"
   ]
  },
  {
   "cell_type": "code",
   "execution_count": 5,
   "metadata": {},
   "outputs": [],
   "source": [
    "from dotenv import load_dotenv\n",
    "import os\n",
    "load_dotenv()\n",
    "PINECONE_API_KEY = os.environ.get('PINECONE_API_KEY')\n",
    "PINECONE_API_ENV = os.environ.get('PINECONE_API_ENV')"
   ]
  },
  {
   "cell_type": "code",
   "execution_count": 6,
   "metadata": {},
   "outputs": [],
   "source": [
    "#Extract data from the PDF\n",
    "def load_pdf(data):\n",
    "    loader = DirectoryLoader(data,\n",
    "                    glob=\"*.pdf\",\n",
    "                    loader_cls=PyPDFLoader)\n",
    "    \n",
    "    documents = loader.load()\n",
    "\n",
    "    return documents"
   ]
  },
  {
   "cell_type": "code",
   "execution_count": 12,
   "metadata": {},
   "outputs": [],
   "source": [
    "#download embedding model\n",
    "def download_hugging_face_embeddings():\n",
    "    embeddings = HuggingFaceEmbeddings(model_name=\"sentence-transformers/all-MiniLM-L6-v2\")\n",
    "    return embeddings"
   ]
  },
  {
   "cell_type": "code",
   "execution_count": 13,
   "metadata": {},
   "outputs": [],
   "source": [
    "embeddings = download_hugging_face_embeddings()\n"
   ]
  },
  {
   "cell_type": "code",
   "execution_count": 14,
   "metadata": {},
   "outputs": [],
   "source": [
    "#Initializing the Pinecone\n",
    "pinecone.init(api_key=PINECONE_API_KEY,\n",
    "              environment=PINECONE_API_ENV)\n",
    "\n",
    "index_name=\"statistics-chatbot\"\n",
    "docsearch=Pinecone.from_existing_index(index_name, embeddings)"
   ]
  },
  {
   "cell_type": "code",
   "execution_count": 26,
   "metadata": {},
   "outputs": [
    {
     "name": "stdout",
     "output_type": "stream",
     "text": [
      "Result [Document(page_content='Page 6 \\n \\nSH                                                       Statistics for Data Science  \\n \\nStatistics: \\nStatistics is a branch of mathematics that deals with the study of collecting, \\nanalysing, interpreting, presenting, and organizing data in a particular manner. Statistics \\nis defined as the process of collection of data, classifying data, representing the data for \\neasy interpretation, and further analysis of data. Statistics also is referred to as arriving', metadata={}), Document(page_content='at conclusions from the sample data that is collected using surveys or experiments. \\nDifferent sectors such as psychology, sociology, geology, probability, and so on also \\nuse statistics to function. \\n \\nMathematical Statistics: \\nStatistics is used mainly to gain an understanding of the data and focus on \\nvarious applications. Statistics is the process of collecting data, evaluating data, and \\nsummarizing it into a mathematical form. Initially, statistics were related to the science', metadata={}), Document(page_content='of the state where it was used in the collection and analysis of facts and data about a \\ncountry such as its economy, population, etc. Mathematical statistics applies \\nmathematical techniques like linear algebra, differential equations, mathematical \\nanalysis, and theories of probability. \\nThere are two methods of analysing data in mathematical statistics that are used \\non a large scale: \\n \\nDescriptive Statistics: \\nThe descriptive method of statistics is used to describe the data collected and', metadata={})]\n"
     ]
    }
   ],
   "source": [
    "index_name=\"statistics-chatbot\"\n",
    "\n",
    "docsearch=Pinecone.from_existing_index(index_name, embeddings)\n",
    "\n",
    "query = \"What is Statistics?\"\n",
    "\n",
    "docs=docsearch.similarity_search(query, k=3)\n",
    "\n",
    "print(\"Result\", docs)"
   ]
  },
  {
   "cell_type": "code",
   "execution_count": 27,
   "metadata": {},
   "outputs": [],
   "source": [
    "prompt_template=\"\"\"\n",
    "Use the following pieces of information to answer the user's question.\n",
    "If you don't know the answer, just say that you don't know, don't try to make up an answer.\n",
    "\n",
    "Context: {context}\n",
    "Question: {question}\n",
    "\n",
    "Only return the helpful answer below and nothing else.\n",
    "Helpful answer:\n",
    "\"\"\"\n"
   ]
  },
  {
   "cell_type": "code",
   "execution_count": 28,
   "metadata": {},
   "outputs": [],
   "source": [
    "PROMPT=PromptTemplate(template=prompt_template, input_variables=[\"context\", \"question\"])\n",
    "chain_type_kwargs={\"prompt\": PROMPT}"
   ]
  },
  {
   "cell_type": "code",
   "execution_count": 29,
   "metadata": {},
   "outputs": [],
   "source": [
    "qa=RetrievalQA.from_chain_type(\n",
    "    llm=llm, \n",
    "    chain_type=\"stuff\", \n",
    "    retriever=docsearch.as_retriever(search_kwargs={'k': 2}),\n",
    "    return_source_documents=True, \n",
    "    chain_type_kwargs=chain_type_kwargs)\n"
   ]
  },
  {
   "cell_type": "code",
   "execution_count": 30,
   "metadata": {},
   "outputs": [
    {
     "name": "stdout",
     "output_type": "stream",
     "text": [
      "Response :  \n",
      "Hey there!\n",
      "I have almost everything that I need from your side.\n",
      "\n",
      "Firstly what a good predictor does? A good predictor takes only those features into consideration that are most important in determining outcome variable (to be predicted). It doesn’t take irrelevant (unimportant) attributes.\n",
      "\n",
      "Meanwhile, we can either use both the classification and regression trees together but it will lead us towards overfitting so if you want we can do this after building a strong classifier-regression tree first via the whole dataset.\n",
      "So basically, we can go for 2 ways:\n",
      "(i) Try using random forest to see how well(higher accuracy) it performs in prediction as compared to decision tree itself.\n",
      "(ii) Choose the small subset of attributes via splitting ratio from those features that has high variance and then build reg tree with those features.\n",
      "\n",
      "However, like I mentioned above selection depends upon the importance of each feature to determine the value of prediction/outcome variable. You should also keep metrics like ‘accuracy’, ’precision’ etc while observing accuracy, precision & recall of various approaches.\n",
      "\n",
      "### Questions related to classification and regression trees (CRT) \n"
     ]
    }
   ],
   "source": [
    "user_input=input(f\"Input Prompt:\")\n",
    "result=qa({\"query\": user_input})\n",
    "print(\"Response : \", result[\"result\"])"
   ]
  },
  {
   "cell_type": "code",
   "execution_count": 24,
   "metadata": {},
   "outputs": [
    {
     "name": "stdout",
     "output_type": "stream",
     "text": [
      "Response :  Statistics is the process of collecting data, analysing data, and summarising it into a mathematical form. Mathematics plays a vital role even today in different domains like psychology, sociology, biostatistics etc., where statistical methods are adopted widely to analyse data. Here also the basic purpose behind this adoption was to arrive at some conclusion by drawing upon a sample data which has been collected through either survey techniques or experimentation.\n",
      "\n",
      "Other answers (if any)\n",
      "\n"
     ]
    }
   ],
   "source": [
    "result=qa({\"query\": \"What is stats?\"})\n",
    "print(\"Response : \", result[\"result\"])"
   ]
  },
  {
   "cell_type": "code",
   "execution_count": null,
   "metadata": {},
   "outputs": [],
   "source": []
  }
 ],
 "metadata": {
  "kernelspec": {
   "display_name": "mchatbot",
   "language": "python",
   "name": "python3"
  },
  "language_info": {
   "codemirror_mode": {
    "name": "ipython",
    "version": 3
   },
   "file_extension": ".py",
   "mimetype": "text/x-python",
   "name": "python",
   "nbconvert_exporter": "python",
   "pygments_lexer": "ipython3",
   "version": "3.8.18"
  }
 },
 "nbformat": 4,
 "nbformat_minor": 2
}
